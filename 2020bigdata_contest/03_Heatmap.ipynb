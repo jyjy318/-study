{
 "cells": [
  {
   "cell_type": "code",
   "execution_count": null,
   "metadata": {},
   "outputs": [],
   "source": [
    "import pandas as pd\n",
    "import matplotlib.pyplot as plt\n",
    "import seaborn as sns\n",
    "import numpy as np\n",
    "\n",
    "# 상관관계 분석\n",
    "\n",
    "# 파일 불러오기\n",
    "data = pd.read_csv('Total_info_final.csv')\n",
    "\n",
    "# 필요한 컬럼\n",
    "cols = ['AVG RATE', 'Interational Oil RATE', 'Ship Oil', 'EX-RATE',  'GDP', 'US_Unempolyment', 'Coronavirus']\n",
    "\n",
    "# column간의 상관성 분석\n",
    "cm = np.corrcoef(data3[cols].values.T)\n",
    "sns.set(font_scale=1)\n",
    "plt.figure(figsize=(20,20))\n",
    "hm = sns.heatmap(cm, cbar=True,cmap=\"Blues\", annot=True, square=True, fmt='.2f',\n",
    "                annot_kws={'size':20},yticklabels=cols,xticklabels=cols)\n",
    "plt.title('Heatmap',fontsize=30)\n",
    "plt.show()"
   ]
  }
 ],
 "metadata": {
  "kernelspec": {
   "display_name": "Python 3",
   "language": "python",
   "name": "python3"
  },
  "language_info": {
   "codemirror_mode": {
    "name": "ipython",
    "version": 3
   },
   "file_extension": ".py",
   "mimetype": "text/x-python",
   "name": "python",
   "nbconvert_exporter": "python",
   "pygments_lexer": "ipython3",
   "version": "3.7.3"
  }
 },
 "nbformat": 4,
 "nbformat_minor": 2
}
