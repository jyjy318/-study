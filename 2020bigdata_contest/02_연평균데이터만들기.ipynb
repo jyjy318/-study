{
 "cells": [
  {
   "cell_type": "code",
   "execution_count": null,
   "metadata": {},
   "outputs": [],
   "source": [
    "import pandas as pd\n",
    "import matplotlib.pyplot as plt\n",
    "import seaborn as sns\n",
    "import numpy as np\n",
    "\n",
    "# 년도별 전체 평균 금액 데이터 만들기\n",
    "\n",
    "# 파일 불러오기\n",
    "data = pd.read_excel('해상수출(코머신)_데이터파일/A. 20피트 청구서.xlsx ')\n",
    "\n",
    "# 년도 데이터 가져오기\n",
    "data['ONBOARD']  = pd.to_datetime(data['ONBOARD'] , format='%Y-%m-%d', errors='raise')\n",
    "data['year']      = data['ONBOARD'].dt.year \n",
    "\n",
    "year = tuple(set(data['year'] ))\n",
    "\n",
    "table=[]\n",
    "for i in year:\n",
    "    lis = []\n",
    "    lis.append(i)\n",
    "    lis.append(np.mean(data['합계'][data['year']==i]))\n",
    "    lis.append(len(data['합계'][data['year']==i]))\n",
    "    lis.append(sum(data['합계'][data['year']==i]))\n",
    "    table.append(lis)\n",
    "    \n",
    "df = pd.DataFrame(table,columns=['date','Average rate','Count','Sum_rate'])\n",
    "df = df.sort_values(by='date')\n",
    "\n",
    "df.to_csv('02_가격정보(연평균).csv',index=False)\n",
    "\n",
    "# 그래프\n",
    "plt.figure(figsize=(10,10))\n",
    "plt.subplot(3,1,1)\n",
    "plt.title('Mean')\n",
    "plt.plot(df['date'],df['Mean'], color='green', marker='o')\n",
    "plt.subplot(3,1,2)\n",
    "plt.title('count')\n",
    "plt.plot(df['date'],df['count'], color='green', marker='o')\n",
    "plt.subplot(3,1,3)\n",
    "plt.title('Sum')\n",
    "plt.plot(df['date'],df['Sum'], color='green', marker='o')\n",
    "plt.show()"
   ]
  }
 ],
 "metadata": {
  "kernelspec": {
   "display_name": "Python 3",
   "language": "python",
   "name": "python3"
  },
  "language_info": {
   "codemirror_mode": {
    "name": "ipython",
    "version": 3
   },
   "file_extension": ".py",
   "mimetype": "text/x-python",
   "name": "python",
   "nbconvert_exporter": "python",
   "pygments_lexer": "ipython3",
   "version": "3.7.3"
  }
 },
 "nbformat": 4,
 "nbformat_minor": 2
}
