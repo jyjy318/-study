{
 "cells": [
  {
   "cell_type": "code",
   "execution_count": 64,
   "metadata": {},
   "outputs": [
    {
     "data": {
      "text/html": [
       "<div>\n",
       "<style scoped>\n",
       "    .dataframe tbody tr th:only-of-type {\n",
       "        vertical-align: middle;\n",
       "    }\n",
       "\n",
       "    .dataframe tbody tr th {\n",
       "        vertical-align: top;\n",
       "    }\n",
       "\n",
       "    .dataframe thead th {\n",
       "        text-align: right;\n",
       "    }\n",
       "</style>\n",
       "<table border=\"1\" class=\"dataframe\">\n",
       "  <thead>\n",
       "    <tr style=\"text-align: right;\">\n",
       "      <th></th>\n",
       "      <th>대분류코드</th>\n",
       "      <th>중분류코드</th>\n",
       "      <th>소분류코드</th>\n",
       "      <th>표준산업분류코드</th>\n",
       "      <th>표준산업분류명</th>\n",
       "      <th>행정동코드</th>\n",
       "      <th>행정동명</th>\n",
       "      <th>도로명주소</th>\n",
       "      <th>경도</th>\n",
       "      <th>위도</th>\n",
       "    </tr>\n",
       "  </thead>\n",
       "  <tbody>\n",
       "    <tr>\n",
       "      <th>0</th>\n",
       "      <td>Q</td>\n",
       "      <td>Q09</td>\n",
       "      <td>Q09A10</td>\n",
       "      <td>I56211</td>\n",
       "      <td>일반유흥 주점업</td>\n",
       "      <td>4146551000</td>\n",
       "      <td>풍덕천1동</td>\n",
       "      <td>경기도 용인시 수지구 풍덕천로139번길 6-5</td>\n",
       "      <td>127.096851</td>\n",
       "      <td>37.324611</td>\n",
       "    </tr>\n",
       "    <tr>\n",
       "      <th>1</th>\n",
       "      <td>Q</td>\n",
       "      <td>Q01</td>\n",
       "      <td>Q01A08</td>\n",
       "      <td>I56111</td>\n",
       "      <td>한식 음식점업</td>\n",
       "      <td>4146551000</td>\n",
       "      <td>풍덕천1동</td>\n",
       "      <td>경기도 용인시 수지구 풍덕천로190번길 23</td>\n",
       "      <td>127.102347</td>\n",
       "      <td>37.324553</td>\n",
       "    </tr>\n",
       "    <tr>\n",
       "      <th>2</th>\n",
       "      <td>Q</td>\n",
       "      <td>Q01</td>\n",
       "      <td>Q01A01</td>\n",
       "      <td>I56111</td>\n",
       "      <td>한식 음식점업</td>\n",
       "      <td>4146352000</td>\n",
       "      <td>구갈동</td>\n",
       "      <td>경기도 용인시 기흥구 갈곡로7번길 8</td>\n",
       "      <td>127.128573</td>\n",
       "      <td>37.272405</td>\n",
       "    </tr>\n",
       "    <tr>\n",
       "      <th>3</th>\n",
       "      <td>Q</td>\n",
       "      <td>Q09</td>\n",
       "      <td>Q09A10</td>\n",
       "      <td>I56211</td>\n",
       "      <td>일반유흥 주점업</td>\n",
       "      <td>4146151000</td>\n",
       "      <td>중앙동</td>\n",
       "      <td>경기도 용인시 처인구 금령로71번길 2</td>\n",
       "      <td>127.204204</td>\n",
       "      <td>37.235371</td>\n",
       "    </tr>\n",
       "    <tr>\n",
       "      <th>4</th>\n",
       "      <td>Q</td>\n",
       "      <td>Q10</td>\n",
       "      <td>Q10A01</td>\n",
       "      <td>I56111</td>\n",
       "      <td>한식 음식점업</td>\n",
       "      <td>4146359000</td>\n",
       "      <td>보정동</td>\n",
       "      <td>경기도 용인시 기흥구 죽전로 50</td>\n",
       "      <td>127.114245</td>\n",
       "      <td>37.320282</td>\n",
       "    </tr>\n",
       "    <tr>\n",
       "      <th>...</th>\n",
       "      <td>...</td>\n",
       "      <td>...</td>\n",
       "      <td>...</td>\n",
       "      <td>...</td>\n",
       "      <td>...</td>\n",
       "      <td>...</td>\n",
       "      <td>...</td>\n",
       "      <td>...</td>\n",
       "      <td>...</td>\n",
       "      <td>...</td>\n",
       "    </tr>\n",
       "    <tr>\n",
       "      <th>39901</th>\n",
       "      <td>D</td>\n",
       "      <td>D24</td>\n",
       "      <td>D24A03</td>\n",
       "      <td>NaN</td>\n",
       "      <td>NaN</td>\n",
       "      <td>4146353500</td>\n",
       "      <td>보라동</td>\n",
       "      <td>경기도 용인시 기흥구 용구대로1890번길 16</td>\n",
       "      <td>127.105963</td>\n",
       "      <td>37.257377</td>\n",
       "    </tr>\n",
       "    <tr>\n",
       "      <th>39902</th>\n",
       "      <td>L</td>\n",
       "      <td>L01</td>\n",
       "      <td>L01A01</td>\n",
       "      <td>L68221</td>\n",
       "      <td>부동산 자문 및 중개업</td>\n",
       "      <td>4146351500</td>\n",
       "      <td>NaN</td>\n",
       "      <td>경기도 용인시 기흥구 덕영대로 1981-1</td>\n",
       "      <td>127.098493</td>\n",
       "      <td>37.261763</td>\n",
       "    </tr>\n",
       "    <tr>\n",
       "      <th>39903</th>\n",
       "      <td>Q</td>\n",
       "      <td>Q01</td>\n",
       "      <td>Q01A03</td>\n",
       "      <td>I56111</td>\n",
       "      <td>한식 음식점업</td>\n",
       "      <td>4146351000</td>\n",
       "      <td>신갈동</td>\n",
       "      <td>경기도 용인시 기흥구 신갈로58번길 8-1</td>\n",
       "      <td>127.106817</td>\n",
       "      <td>37.271945</td>\n",
       "    </tr>\n",
       "    <tr>\n",
       "      <th>39904</th>\n",
       "      <td>Q</td>\n",
       "      <td>Q12</td>\n",
       "      <td>Q12A01</td>\n",
       "      <td>I56220</td>\n",
       "      <td>비알콜 음료점업</td>\n",
       "      <td>4146152000</td>\n",
       "      <td>역삼동</td>\n",
       "      <td>경기도 용인시 처인구 중부대로 1294</td>\n",
       "      <td>127.188290</td>\n",
       "      <td>37.235470</td>\n",
       "    </tr>\n",
       "    <tr>\n",
       "      <th>39905</th>\n",
       "      <td>D</td>\n",
       "      <td>D05</td>\n",
       "      <td>D05A05</td>\n",
       "      <td>G47416</td>\n",
       "      <td>셔츠 및 기타 의복 소매업</td>\n",
       "      <td>4146359000</td>\n",
       "      <td>보정동</td>\n",
       "      <td>경기도 용인시 기흥구 이현로 34</td>\n",
       "      <td>127.098113</td>\n",
       "      <td>37.308752</td>\n",
       "    </tr>\n",
       "  </tbody>\n",
       "</table>\n",
       "<p>39906 rows × 10 columns</p>\n",
       "</div>"
      ],
      "text/plain": [
       "      대분류코드 중분류코드   소분류코드 표준산업분류코드         표준산업분류명       행정동코드   행정동명  \\\n",
       "0         Q   Q09  Q09A10   I56211        일반유흥 주점업  4146551000  풍덕천1동   \n",
       "1         Q   Q01  Q01A08   I56111         한식 음식점업  4146551000  풍덕천1동   \n",
       "2         Q   Q01  Q01A01   I56111         한식 음식점업  4146352000    구갈동   \n",
       "3         Q   Q09  Q09A10   I56211        일반유흥 주점업  4146151000    중앙동   \n",
       "4         Q   Q10  Q10A01   I56111         한식 음식점업  4146359000    보정동   \n",
       "...     ...   ...     ...      ...             ...         ...    ...   \n",
       "39901     D   D24  D24A03      NaN             NaN  4146353500    보라동   \n",
       "39902     L   L01  L01A01   L68221    부동산 자문 및 중개업  4146351500    NaN   \n",
       "39903     Q   Q01  Q01A03   I56111         한식 음식점업  4146351000    신갈동   \n",
       "39904     Q   Q12  Q12A01   I56220        비알콜 음료점업  4146152000    역삼동   \n",
       "39905     D   D05  D05A05   G47416  셔츠 및 기타 의복 소매업  4146359000    보정동   \n",
       "\n",
       "                           도로명주소          경도         위도  \n",
       "0      경기도 용인시 수지구 풍덕천로139번길 6-5  127.096851  37.324611  \n",
       "1       경기도 용인시 수지구 풍덕천로190번길 23  127.102347  37.324553  \n",
       "2           경기도 용인시 기흥구 갈곡로7번길 8  127.128573  37.272405  \n",
       "3          경기도 용인시 처인구 금령로71번길 2  127.204204  37.235371  \n",
       "4             경기도 용인시 기흥구 죽전로 50  127.114245  37.320282  \n",
       "...                          ...         ...        ...  \n",
       "39901  경기도 용인시 기흥구 용구대로1890번길 16  127.105963  37.257377  \n",
       "39902    경기도 용인시 기흥구 덕영대로 1981-1  127.098493  37.261763  \n",
       "39903    경기도 용인시 기흥구 신갈로58번길 8-1  127.106817  37.271945  \n",
       "39904      경기도 용인시 처인구 중부대로 1294  127.188290  37.235470  \n",
       "39905         경기도 용인시 기흥구 이현로 34  127.098113  37.308752  \n",
       "\n",
       "[39906 rows x 10 columns]"
      ]
     },
     "execution_count": 64,
     "metadata": {},
     "output_type": "execute_result"
    }
   ],
   "source": [
    "import csv\n",
    "import pandas as pd\n",
    "\n",
    "df = pd.read_csv('1.용인시_상권_정보.csv')\n",
    "df"
   ]
  },
  {
   "cell_type": "code",
   "execution_count": 54,
   "metadata": {},
   "outputs": [],
   "source": [
    "from urllib.request import urlopen\n",
    "from urllib.parse import urlencode, unquote, quote_plus\n",
    "import urllib\n",
    "import requests\n",
    "import json\n",
    "import pandas as pd"
   ]
  },
  {
   "cell_type": "code",
   "execution_count": 61,
   "metadata": {},
   "outputs": [
    {
     "data": {
      "text/html": [
       "<div>\n",
       "<style scoped>\n",
       "    .dataframe tbody tr th:only-of-type {\n",
       "        vertical-align: middle;\n",
       "    }\n",
       "\n",
       "    .dataframe tbody tr th {\n",
       "        vertical-align: top;\n",
       "    }\n",
       "\n",
       "    .dataframe thead th {\n",
       "        text-align: right;\n",
       "    }\n",
       "</style>\n",
       "<table border=\"1\" class=\"dataframe\">\n",
       "  <thead>\n",
       "    <tr style=\"text-align: right;\">\n",
       "      <th></th>\n",
       "      <th>STD_YM</th>\n",
       "      <th>TMST_00</th>\n",
       "      <th>TMST_01</th>\n",
       "      <th>TMST_02</th>\n",
       "      <th>TMST_03</th>\n",
       "      <th>TMST_04</th>\n",
       "      <th>TMST_05</th>\n",
       "      <th>TMST_06</th>\n",
       "      <th>TMST_07</th>\n",
       "      <th>TMST_08</th>\n",
       "      <th>...</th>\n",
       "      <th>TMST_16</th>\n",
       "      <th>TMST_17</th>\n",
       "      <th>TMST_18</th>\n",
       "      <th>TMST_19</th>\n",
       "      <th>TMST_20</th>\n",
       "      <th>TMST_21</th>\n",
       "      <th>TMST_22</th>\n",
       "      <th>TMST_23</th>\n",
       "      <th>lon</th>\n",
       "      <th>lat</th>\n",
       "    </tr>\n",
       "  </thead>\n",
       "  <tbody>\n",
       "    <tr>\n",
       "      <th>405961</th>\n",
       "      <td>201906</td>\n",
       "      <td>0.02</td>\n",
       "      <td>0.02</td>\n",
       "      <td>0.0</td>\n",
       "      <td>0.0</td>\n",
       "      <td>0.0</td>\n",
       "      <td>0.02</td>\n",
       "      <td>0.05</td>\n",
       "      <td>0.05</td>\n",
       "      <td>0.14</td>\n",
       "      <td>...</td>\n",
       "      <td>0.16</td>\n",
       "      <td>0.11</td>\n",
       "      <td>0.07</td>\n",
       "      <td>0.02</td>\n",
       "      <td>0.04</td>\n",
       "      <td>0.02</td>\n",
       "      <td>0.0</td>\n",
       "      <td>0.02</td>\n",
       "      <td>127.182728</td>\n",
       "      <td>37.306254</td>\n",
       "    </tr>\n",
       "    <tr>\n",
       "      <th>405962</th>\n",
       "      <td>201906</td>\n",
       "      <td>0.02</td>\n",
       "      <td>0.02</td>\n",
       "      <td>0.0</td>\n",
       "      <td>0.0</td>\n",
       "      <td>0.0</td>\n",
       "      <td>0.02</td>\n",
       "      <td>0.05</td>\n",
       "      <td>0.07</td>\n",
       "      <td>0.16</td>\n",
       "      <td>...</td>\n",
       "      <td>0.16</td>\n",
       "      <td>0.12</td>\n",
       "      <td>0.07</td>\n",
       "      <td>0.04</td>\n",
       "      <td>0.04</td>\n",
       "      <td>0.02</td>\n",
       "      <td>0.0</td>\n",
       "      <td>0.02</td>\n",
       "      <td>127.182726</td>\n",
       "      <td>37.306705</td>\n",
       "    </tr>\n",
       "    <tr>\n",
       "      <th>405963</th>\n",
       "      <td>201906</td>\n",
       "      <td>0.02</td>\n",
       "      <td>0.02</td>\n",
       "      <td>0.0</td>\n",
       "      <td>0.0</td>\n",
       "      <td>0.0</td>\n",
       "      <td>0.02</td>\n",
       "      <td>0.05</td>\n",
       "      <td>0.07</td>\n",
       "      <td>0.16</td>\n",
       "      <td>...</td>\n",
       "      <td>0.16</td>\n",
       "      <td>0.12</td>\n",
       "      <td>0.07</td>\n",
       "      <td>0.04</td>\n",
       "      <td>0.04</td>\n",
       "      <td>0.02</td>\n",
       "      <td>0.0</td>\n",
       "      <td>0.02</td>\n",
       "      <td>127.182723</td>\n",
       "      <td>37.307606</td>\n",
       "    </tr>\n",
       "    <tr>\n",
       "      <th>405964</th>\n",
       "      <td>201906</td>\n",
       "      <td>0.00</td>\n",
       "      <td>0.00</td>\n",
       "      <td>0.0</td>\n",
       "      <td>0.0</td>\n",
       "      <td>0.0</td>\n",
       "      <td>0.00</td>\n",
       "      <td>0.00</td>\n",
       "      <td>0.00</td>\n",
       "      <td>0.00</td>\n",
       "      <td>...</td>\n",
       "      <td>0.02</td>\n",
       "      <td>0.02</td>\n",
       "      <td>0.00</td>\n",
       "      <td>0.00</td>\n",
       "      <td>0.00</td>\n",
       "      <td>0.00</td>\n",
       "      <td>0.0</td>\n",
       "      <td>0.00</td>\n",
       "      <td>127.182643</td>\n",
       "      <td>37.326535</td>\n",
       "    </tr>\n",
       "    <tr>\n",
       "      <th>405965</th>\n",
       "      <td>201906</td>\n",
       "      <td>0.00</td>\n",
       "      <td>0.00</td>\n",
       "      <td>0.0</td>\n",
       "      <td>0.0</td>\n",
       "      <td>0.0</td>\n",
       "      <td>0.00</td>\n",
       "      <td>0.00</td>\n",
       "      <td>0.02</td>\n",
       "      <td>0.02</td>\n",
       "      <td>...</td>\n",
       "      <td>0.04</td>\n",
       "      <td>0.04</td>\n",
       "      <td>0.02</td>\n",
       "      <td>0.02</td>\n",
       "      <td>0.02</td>\n",
       "      <td>0.02</td>\n",
       "      <td>0.0</td>\n",
       "      <td>0.00</td>\n",
       "      <td>127.182637</td>\n",
       "      <td>37.327887</td>\n",
       "    </tr>\n",
       "  </tbody>\n",
       "</table>\n",
       "<p>5 rows × 27 columns</p>\n",
       "</div>"
      ],
      "text/plain": [
       "        STD_YM  TMST_00  TMST_01  TMST_02  TMST_03  TMST_04  TMST_05  TMST_06  \\\n",
       "405961  201906     0.02     0.02      0.0      0.0      0.0     0.02     0.05   \n",
       "405962  201906     0.02     0.02      0.0      0.0      0.0     0.02     0.05   \n",
       "405963  201906     0.02     0.02      0.0      0.0      0.0     0.02     0.05   \n",
       "405964  201906     0.00     0.00      0.0      0.0      0.0     0.00     0.00   \n",
       "405965  201906     0.00     0.00      0.0      0.0      0.0     0.00     0.00   \n",
       "\n",
       "        TMST_07  TMST_08  ...  TMST_16  TMST_17  TMST_18  TMST_19  TMST_20  \\\n",
       "405961     0.05     0.14  ...     0.16     0.11     0.07     0.02     0.04   \n",
       "405962     0.07     0.16  ...     0.16     0.12     0.07     0.04     0.04   \n",
       "405963     0.07     0.16  ...     0.16     0.12     0.07     0.04     0.04   \n",
       "405964     0.00     0.00  ...     0.02     0.02     0.00     0.00     0.00   \n",
       "405965     0.02     0.02  ...     0.04     0.04     0.02     0.02     0.02   \n",
       "\n",
       "        TMST_21  TMST_22  TMST_23         lon        lat  \n",
       "405961     0.02      0.0     0.02  127.182728  37.306254  \n",
       "405962     0.02      0.0     0.02  127.182726  37.306705  \n",
       "405963     0.02      0.0     0.02  127.182723  37.307606  \n",
       "405964     0.00      0.0     0.00  127.182643  37.326535  \n",
       "405965     0.02      0.0     0.00  127.182637  37.327887  \n",
       "\n",
       "[5 rows x 27 columns]"
      ]
     },
     "execution_count": 61,
     "metadata": {},
     "output_type": "execute_result"
    }
   ],
   "source": [
    "from geoband.API import *\n",
    "GetCompasData('SBJ_2012_002', '7', '7.용인시_유동인구.csv')\n",
    "move = pd.read_csv('7.용인시_유동인구.csv')\n",
    "move.tail(5)\n"
   ]
  },
  {
   "cell_type": "code",
   "execution_count": 93,
   "metadata": {},
   "outputs": [],
   "source": [
    "from geoband.API import *\n",
    "GetCompasData('SBJ_2012_002', '7', '7.용인시_유동인구.csv')\n",
    "df = pd.read_csv('7.용인시_유동인구.csv')\n",
    "df.tail(5)\n",
    "\n",
    "#컬럼 선택\n",
    "is_201901 = df['STD_YM'] == 201901\n",
    "#새 변수에 저장\n",
    "n_201901 = df[is_201901]\n",
    "#결과 출력\n",
    "n_201901\n",
    "#is_201901\n",
    "\n",
    "idx201901 = df[(df['STD_YM'] != 201901)].index\n",
    "df = df.drop(idx201901)\n",
    "\n",
    "df.to_csv('./월별/201901.csv') #csv파일로 생성"
   ]
  },
  {
   "cell_type": "code",
   "execution_count": 94,
   "metadata": {},
   "outputs": [],
   "source": [
    "from geoband.API import *\n",
    "GetCompasData('SBJ_2012_002', '7', '7.용인시_유동인구.csv')\n",
    "df = pd.read_csv('7.용인시_유동인구.csv')\n",
    "df.tail(5)\n",
    "\n",
    "#컬럼 선택\n",
    "is_201902 = df['STD_YM'] == 201902\n",
    "#새 변수에 저장\n",
    "n_201902 = df[is_201902]\n",
    "#결과 출력\n",
    "n_201901\n",
    "#is_201901\n",
    "\n",
    "idx201902 = df[(df['STD_YM'] != 201902)].index\n",
    "df = df.drop(idx201902)\n",
    "\n",
    "df.to_csv('./월별/201902.csv') #csv파일로 생성"
   ]
  },
  {
   "cell_type": "code",
   "execution_count": 95,
   "metadata": {},
   "outputs": [],
   "source": [
    "from geoband.API import *\n",
    "GetCompasData('SBJ_2012_002', '7', '7.용인시_유동인구.csv')\n",
    "df = pd.read_csv('7.용인시_유동인구.csv')\n",
    "df.tail(5)\n",
    "\n",
    "#컬럼 선택\n",
    "is_201903 = df['STD_YM'] == 201903\n",
    "#새 변수에 저장\n",
    "n_201903 = df[is_201903]\n",
    "#결과 출력\n",
    "n_201903\n",
    "\n",
    "idx201903 = df[(df['STD_YM'] != 201903)].index\n",
    "df = df.drop(idx201903)\n",
    "\n",
    "df.to_csv('./월별/201903.csv') #csv파일로 생성"
   ]
  },
  {
   "cell_type": "code",
   "execution_count": 96,
   "metadata": {},
   "outputs": [],
   "source": [
    "from geoband.API import *\n",
    "GetCompasData('SBJ_2012_002', '7', '7.용인시_유동인구.csv')\n",
    "df = pd.read_csv('7.용인시_유동인구.csv')\n",
    "df.tail(5)\n",
    "\n",
    "#컬럼 선택\n",
    "is_201904 = df['STD_YM'] == 201904\n",
    "#새 변수에 저장\n",
    "n_201904 = df[is_201904]\n",
    "#결과 출력\n",
    "n_201904\n",
    "\n",
    "idx201904 = df[(df['STD_YM'] != 201904)].index\n",
    "df = df.drop(idx201904)\n",
    "\n",
    "df.to_csv('./월별/201904.csv') #csv파일로 생성"
   ]
  },
  {
   "cell_type": "code",
   "execution_count": 97,
   "metadata": {},
   "outputs": [],
   "source": [
    "from geoband.API import *\n",
    "GetCompasData('SBJ_2012_002', '7', '7.용인시_유동인구.csv')\n",
    "df = pd.read_csv('7.용인시_유동인구.csv')\n",
    "df.tail(5)\n",
    "\n",
    "#컬럼 선택\n",
    "is_201905 = df['STD_YM'] == 201905\n",
    "#새 변수에 저장\n",
    "n_201905 = df[is_201905]\n",
    "#결과 출력\n",
    "n_201905\n",
    "\n",
    "idx201905 = df[(df['STD_YM'] != 201905)].index\n",
    "df = df.drop(idx201905)\n",
    "\n",
    "df.to_csv('./월별/201905.csv') #csv파일로 생성"
   ]
  },
  {
   "cell_type": "code",
   "execution_count": 98,
   "metadata": {},
   "outputs": [],
   "source": [
    "from geoband.API import *\n",
    "GetCompasData('SBJ_2012_002', '7', '7.용인시_유동인구.csv')\n",
    "df = pd.read_csv('7.용인시_유동인구.csv')\n",
    "df.tail(5)\n",
    "\n",
    "#컬럼 선택\n",
    "is_201906 = df['STD_YM'] == 201906\n",
    "#새 변수에 저장\n",
    "n_201906 = df[is_201906]\n",
    "#결과 출력\n",
    "n_201906\n",
    "\n",
    "idx201906 = df[(df['STD_YM'] != 201906)].index\n",
    "df = df.drop(idx201906)\n",
    "\n",
    "df.to_csv('./월별/201906.csv') #csv파일로 생성"
   ]
  },
  {
   "cell_type": "code",
   "execution_count": 37,
   "metadata": {},
   "outputs": [
    {
     "data": {
      "text/html": [
       "<div>\n",
       "<style scoped>\n",
       "    .dataframe tbody tr th:only-of-type {\n",
       "        vertical-align: middle;\n",
       "    }\n",
       "\n",
       "    .dataframe tbody tr th {\n",
       "        vertical-align: top;\n",
       "    }\n",
       "\n",
       "    .dataframe thead th {\n",
       "        text-align: right;\n",
       "    }\n",
       "</style>\n",
       "<table border=\"1\" class=\"dataframe\">\n",
       "  <thead>\n",
       "    <tr style=\"text-align: right;\">\n",
       "      <th></th>\n",
       "      <th>Unnamed: 0</th>\n",
       "      <th>STD_YM</th>\n",
       "      <th>TMST_00</th>\n",
       "      <th>TMST_01</th>\n",
       "      <th>TMST_02</th>\n",
       "      <th>TMST_03</th>\n",
       "      <th>TMST_04</th>\n",
       "      <th>TMST_05</th>\n",
       "      <th>TMST_06</th>\n",
       "      <th>TMST_07</th>\n",
       "      <th>...</th>\n",
       "      <th>TMST_16</th>\n",
       "      <th>TMST_17</th>\n",
       "      <th>TMST_18</th>\n",
       "      <th>TMST_19</th>\n",
       "      <th>TMST_20</th>\n",
       "      <th>TMST_21</th>\n",
       "      <th>TMST_22</th>\n",
       "      <th>TMST_23</th>\n",
       "      <th>lon</th>\n",
       "      <th>lat</th>\n",
       "    </tr>\n",
       "  </thead>\n",
       "  <tbody>\n",
       "    <tr>\n",
       "      <th>0</th>\n",
       "      <td>138501</td>\n",
       "      <td>201903</td>\n",
       "      <td>0.03</td>\n",
       "      <td>0.02</td>\n",
       "      <td>0.02</td>\n",
       "      <td>0.01</td>\n",
       "      <td>0.03</td>\n",
       "      <td>0.04</td>\n",
       "      <td>0.10</td>\n",
       "      <td>0.26</td>\n",
       "      <td>...</td>\n",
       "      <td>0.41</td>\n",
       "      <td>0.28</td>\n",
       "      <td>0.18</td>\n",
       "      <td>0.11</td>\n",
       "      <td>0.08</td>\n",
       "      <td>0.07</td>\n",
       "      <td>0.05</td>\n",
       "      <td>0.04</td>\n",
       "      <td>127.017681</td>\n",
       "      <td>37.352568</td>\n",
       "    </tr>\n",
       "    <tr>\n",
       "      <th>1</th>\n",
       "      <td>138502</td>\n",
       "      <td>201903</td>\n",
       "      <td>0.04</td>\n",
       "      <td>0.03</td>\n",
       "      <td>0.02</td>\n",
       "      <td>0.02</td>\n",
       "      <td>0.04</td>\n",
       "      <td>0.05</td>\n",
       "      <td>0.13</td>\n",
       "      <td>0.32</td>\n",
       "      <td>...</td>\n",
       "      <td>0.49</td>\n",
       "      <td>0.34</td>\n",
       "      <td>0.22</td>\n",
       "      <td>0.13</td>\n",
       "      <td>0.10</td>\n",
       "      <td>0.08</td>\n",
       "      <td>0.07</td>\n",
       "      <td>0.04</td>\n",
       "      <td>127.018254</td>\n",
       "      <td>37.351219</td>\n",
       "    </tr>\n",
       "    <tr>\n",
       "      <th>2</th>\n",
       "      <td>138503</td>\n",
       "      <td>201903</td>\n",
       "      <td>0.03</td>\n",
       "      <td>0.03</td>\n",
       "      <td>0.02</td>\n",
       "      <td>0.02</td>\n",
       "      <td>0.03</td>\n",
       "      <td>0.04</td>\n",
       "      <td>0.12</td>\n",
       "      <td>0.30</td>\n",
       "      <td>...</td>\n",
       "      <td>0.47</td>\n",
       "      <td>0.32</td>\n",
       "      <td>0.21</td>\n",
       "      <td>0.12</td>\n",
       "      <td>0.09</td>\n",
       "      <td>0.08</td>\n",
       "      <td>0.06</td>\n",
       "      <td>0.04</td>\n",
       "      <td>127.018251</td>\n",
       "      <td>37.351669</td>\n",
       "    </tr>\n",
       "    <tr>\n",
       "      <th>3</th>\n",
       "      <td>138504</td>\n",
       "      <td>201903</td>\n",
       "      <td>0.07</td>\n",
       "      <td>0.05</td>\n",
       "      <td>0.02</td>\n",
       "      <td>0.02</td>\n",
       "      <td>0.02</td>\n",
       "      <td>0.05</td>\n",
       "      <td>0.11</td>\n",
       "      <td>0.20</td>\n",
       "      <td>...</td>\n",
       "      <td>0.50</td>\n",
       "      <td>0.27</td>\n",
       "      <td>0.16</td>\n",
       "      <td>0.10</td>\n",
       "      <td>0.10</td>\n",
       "      <td>0.07</td>\n",
       "      <td>0.06</td>\n",
       "      <td>0.07</td>\n",
       "      <td>127.018813</td>\n",
       "      <td>37.352122</td>\n",
       "    </tr>\n",
       "    <tr>\n",
       "      <th>4</th>\n",
       "      <td>138505</td>\n",
       "      <td>201903</td>\n",
       "      <td>0.07</td>\n",
       "      <td>0.05</td>\n",
       "      <td>0.02</td>\n",
       "      <td>0.02</td>\n",
       "      <td>0.02</td>\n",
       "      <td>0.05</td>\n",
       "      <td>0.12</td>\n",
       "      <td>0.20</td>\n",
       "      <td>...</td>\n",
       "      <td>0.52</td>\n",
       "      <td>0.28</td>\n",
       "      <td>0.16</td>\n",
       "      <td>0.10</td>\n",
       "      <td>0.10</td>\n",
       "      <td>0.07</td>\n",
       "      <td>0.07</td>\n",
       "      <td>0.07</td>\n",
       "      <td>127.021063</td>\n",
       "      <td>37.353483</td>\n",
       "    </tr>\n",
       "    <tr>\n",
       "      <th>...</th>\n",
       "      <td>...</td>\n",
       "      <td>...</td>\n",
       "      <td>...</td>\n",
       "      <td>...</td>\n",
       "      <td>...</td>\n",
       "      <td>...</td>\n",
       "      <td>...</td>\n",
       "      <td>...</td>\n",
       "      <td>...</td>\n",
       "      <td>...</td>\n",
       "      <td>...</td>\n",
       "      <td>...</td>\n",
       "      <td>...</td>\n",
       "      <td>...</td>\n",
       "      <td>...</td>\n",
       "      <td>...</td>\n",
       "      <td>...</td>\n",
       "      <td>...</td>\n",
       "      <td>...</td>\n",
       "      <td>...</td>\n",
       "      <td>...</td>\n",
       "    </tr>\n",
       "    <tr>\n",
       "      <th>75055</th>\n",
       "      <td>213556</td>\n",
       "      <td>201903</td>\n",
       "      <td>0.00</td>\n",
       "      <td>0.00</td>\n",
       "      <td>0.00</td>\n",
       "      <td>0.00</td>\n",
       "      <td>0.00</td>\n",
       "      <td>0.00</td>\n",
       "      <td>0.01</td>\n",
       "      <td>0.01</td>\n",
       "      <td>...</td>\n",
       "      <td>0.01</td>\n",
       "      <td>0.01</td>\n",
       "      <td>0.01</td>\n",
       "      <td>0.01</td>\n",
       "      <td>0.00</td>\n",
       "      <td>0.00</td>\n",
       "      <td>0.00</td>\n",
       "      <td>0.00</td>\n",
       "      <td>127.424408</td>\n",
       "      <td>37.112401</td>\n",
       "    </tr>\n",
       "    <tr>\n",
       "      <th>75056</th>\n",
       "      <td>213557</td>\n",
       "      <td>201903</td>\n",
       "      <td>0.00</td>\n",
       "      <td>0.00</td>\n",
       "      <td>0.00</td>\n",
       "      <td>0.00</td>\n",
       "      <td>0.00</td>\n",
       "      <td>0.00</td>\n",
       "      <td>0.01</td>\n",
       "      <td>0.01</td>\n",
       "      <td>...</td>\n",
       "      <td>0.01</td>\n",
       "      <td>0.01</td>\n",
       "      <td>0.01</td>\n",
       "      <td>0.01</td>\n",
       "      <td>0.00</td>\n",
       "      <td>0.00</td>\n",
       "      <td>0.00</td>\n",
       "      <td>0.00</td>\n",
       "      <td>127.424407</td>\n",
       "      <td>37.112852</td>\n",
       "    </tr>\n",
       "    <tr>\n",
       "      <th>75057</th>\n",
       "      <td>213558</td>\n",
       "      <td>201903</td>\n",
       "      <td>0.00</td>\n",
       "      <td>0.00</td>\n",
       "      <td>0.00</td>\n",
       "      <td>0.00</td>\n",
       "      <td>0.00</td>\n",
       "      <td>0.00</td>\n",
       "      <td>0.00</td>\n",
       "      <td>0.00</td>\n",
       "      <td>...</td>\n",
       "      <td>0.01</td>\n",
       "      <td>0.01</td>\n",
       "      <td>0.00</td>\n",
       "      <td>0.00</td>\n",
       "      <td>0.00</td>\n",
       "      <td>0.00</td>\n",
       "      <td>0.00</td>\n",
       "      <td>0.00</td>\n",
       "      <td>127.424407</td>\n",
       "      <td>37.113302</td>\n",
       "    </tr>\n",
       "    <tr>\n",
       "      <th>75058</th>\n",
       "      <td>213559</td>\n",
       "      <td>201903</td>\n",
       "      <td>0.00</td>\n",
       "      <td>0.00</td>\n",
       "      <td>0.00</td>\n",
       "      <td>0.00</td>\n",
       "      <td>0.00</td>\n",
       "      <td>0.01</td>\n",
       "      <td>0.02</td>\n",
       "      <td>0.04</td>\n",
       "      <td>...</td>\n",
       "      <td>0.03</td>\n",
       "      <td>0.04</td>\n",
       "      <td>0.03</td>\n",
       "      <td>0.02</td>\n",
       "      <td>0.01</td>\n",
       "      <td>0.01</td>\n",
       "      <td>0.01</td>\n",
       "      <td>0.00</td>\n",
       "      <td>127.424386</td>\n",
       "      <td>37.133584</td>\n",
       "    </tr>\n",
       "    <tr>\n",
       "      <th>75059</th>\n",
       "      <td>213560</td>\n",
       "      <td>201903</td>\n",
       "      <td>0.00</td>\n",
       "      <td>0.00</td>\n",
       "      <td>0.00</td>\n",
       "      <td>0.00</td>\n",
       "      <td>0.00</td>\n",
       "      <td>0.01</td>\n",
       "      <td>0.02</td>\n",
       "      <td>0.04</td>\n",
       "      <td>...</td>\n",
       "      <td>0.04</td>\n",
       "      <td>0.04</td>\n",
       "      <td>0.03</td>\n",
       "      <td>0.02</td>\n",
       "      <td>0.01</td>\n",
       "      <td>0.01</td>\n",
       "      <td>0.01</td>\n",
       "      <td>0.00</td>\n",
       "      <td>127.424949</td>\n",
       "      <td>37.133585</td>\n",
       "    </tr>\n",
       "  </tbody>\n",
       "</table>\n",
       "<p>75060 rows × 28 columns</p>\n",
       "</div>"
      ],
      "text/plain": [
       "       Unnamed: 0  STD_YM  TMST_00  TMST_01  TMST_02  TMST_03  TMST_04  \\\n",
       "0          138501  201903     0.03     0.02     0.02     0.01     0.03   \n",
       "1          138502  201903     0.04     0.03     0.02     0.02     0.04   \n",
       "2          138503  201903     0.03     0.03     0.02     0.02     0.03   \n",
       "3          138504  201903     0.07     0.05     0.02     0.02     0.02   \n",
       "4          138505  201903     0.07     0.05     0.02     0.02     0.02   \n",
       "...           ...     ...      ...      ...      ...      ...      ...   \n",
       "75055      213556  201903     0.00     0.00     0.00     0.00     0.00   \n",
       "75056      213557  201903     0.00     0.00     0.00     0.00     0.00   \n",
       "75057      213558  201903     0.00     0.00     0.00     0.00     0.00   \n",
       "75058      213559  201903     0.00     0.00     0.00     0.00     0.00   \n",
       "75059      213560  201903     0.00     0.00     0.00     0.00     0.00   \n",
       "\n",
       "       TMST_05  TMST_06  TMST_07  ...  TMST_16  TMST_17  TMST_18  TMST_19  \\\n",
       "0         0.04     0.10     0.26  ...     0.41     0.28     0.18     0.11   \n",
       "1         0.05     0.13     0.32  ...     0.49     0.34     0.22     0.13   \n",
       "2         0.04     0.12     0.30  ...     0.47     0.32     0.21     0.12   \n",
       "3         0.05     0.11     0.20  ...     0.50     0.27     0.16     0.10   \n",
       "4         0.05     0.12     0.20  ...     0.52     0.28     0.16     0.10   \n",
       "...        ...      ...      ...  ...      ...      ...      ...      ...   \n",
       "75055     0.00     0.01     0.01  ...     0.01     0.01     0.01     0.01   \n",
       "75056     0.00     0.01     0.01  ...     0.01     0.01     0.01     0.01   \n",
       "75057     0.00     0.00     0.00  ...     0.01     0.01     0.00     0.00   \n",
       "75058     0.01     0.02     0.04  ...     0.03     0.04     0.03     0.02   \n",
       "75059     0.01     0.02     0.04  ...     0.04     0.04     0.03     0.02   \n",
       "\n",
       "       TMST_20  TMST_21  TMST_22  TMST_23         lon        lat  \n",
       "0         0.08     0.07     0.05     0.04  127.017681  37.352568  \n",
       "1         0.10     0.08     0.07     0.04  127.018254  37.351219  \n",
       "2         0.09     0.08     0.06     0.04  127.018251  37.351669  \n",
       "3         0.10     0.07     0.06     0.07  127.018813  37.352122  \n",
       "4         0.10     0.07     0.07     0.07  127.021063  37.353483  \n",
       "...        ...      ...      ...      ...         ...        ...  \n",
       "75055     0.00     0.00     0.00     0.00  127.424408  37.112401  \n",
       "75056     0.00     0.00     0.00     0.00  127.424407  37.112852  \n",
       "75057     0.00     0.00     0.00     0.00  127.424407  37.113302  \n",
       "75058     0.01     0.01     0.01     0.00  127.424386  37.133584  \n",
       "75059     0.01     0.01     0.01     0.00  127.424949  37.133585  \n",
       "\n",
       "[75060 rows x 28 columns]"
      ]
     },
     "execution_count": 37,
     "metadata": {},
     "output_type": "execute_result"
    }
   ],
   "source": [
    "import csv\n",
    "import pandas as pd\n",
    "\n",
    "df = pd.read_csv('./월별/201903.csv')\n",
    "df"
   ]
  },
  {
   "cell_type": "code",
   "execution_count": 46,
   "metadata": {},
   "outputs": [
    {
     "data": {
      "text/plain": [
       "0.8039789501732042"
      ]
     },
     "execution_count": 46,
     "metadata": {},
     "output_type": "execute_result"
    }
   ],
   "source": [
    "df[\"TMST_00\"].mean()"
   ]
  },
  {
   "cell_type": "code",
   "execution_count": 38,
   "metadata": {},
   "outputs": [
    {
     "data": {
      "text/plain": [
       "0.5504004796162519"
      ]
     },
     "execution_count": 38,
     "metadata": {},
     "output_type": "execute_result"
    }
   ],
   "source": [
    "df[\"TMST_01\"].mean()"
   ]
  },
  {
   "cell_type": "code",
   "execution_count": 39,
   "metadata": {},
   "outputs": [
    {
     "data": {
      "text/plain": [
       "0.4139423128162777"
      ]
     },
     "execution_count": 39,
     "metadata": {},
     "output_type": "execute_result"
    }
   ],
   "source": [
    "df[\"TMST_02\"].mean()"
   ]
  },
  {
   "cell_type": "code",
   "execution_count": 40,
   "metadata": {},
   "outputs": [
    {
     "data": {
      "text/plain": [
       "0.3889007460696905"
      ]
     },
     "execution_count": 40,
     "metadata": {},
     "output_type": "execute_result"
    }
   ],
   "source": [
    "df[\"TMST_03\"].mean()"
   ]
  },
  {
   "cell_type": "code",
   "execution_count": 41,
   "metadata": {},
   "outputs": [
    {
     "data": {
      "text/plain": [
       "0.5251253663735078"
      ]
     },
     "execution_count": 41,
     "metadata": {},
     "output_type": "execute_result"
    }
   ],
   "source": [
    "df[\"TMST_04\"].mean()"
   ]
  },
  {
   "cell_type": "code",
   "execution_count": 42,
   "metadata": {},
   "outputs": [
    {
     "data": {
      "text/plain": [
       "1.1459413802289478"
      ]
     },
     "execution_count": 42,
     "metadata": {},
     "output_type": "execute_result"
    }
   ],
   "source": [
    "df[\"TMST_05\"].mean()"
   ]
  },
  {
   "cell_type": "code",
   "execution_count": 43,
   "metadata": {},
   "outputs": [
    {
     "data": {
      "text/plain": [
       "2.5080652811083906"
      ]
     },
     "execution_count": 43,
     "metadata": {},
     "output_type": "execute_result"
    }
   ],
   "source": [
    "df[\"TMST_06\"].mean()"
   ]
  },
  {
   "cell_type": "code",
   "execution_count": 44,
   "metadata": {},
   "outputs": [
    {
     "data": {
      "text/plain": [
       "4.098589528377822"
      ]
     },
     "execution_count": 44,
     "metadata": {},
     "output_type": "execute_result"
    }
   ],
   "source": [
    "df[\"TMST_07\"].mean()"
   ]
  },
  {
   "cell_type": "code",
   "execution_count": 45,
   "metadata": {},
   "outputs": [
    {
     "data": {
      "text/plain": [
       "4.3558359978690495"
      ]
     },
     "execution_count": 45,
     "metadata": {},
     "output_type": "execute_result"
    }
   ],
   "source": [
    "df[\"TMST_08\"].mean()"
   ]
  },
  {
   "cell_type": "code",
   "execution_count": 47,
   "metadata": {},
   "outputs": [
    {
     "data": {
      "text/plain": [
       "3.8393815614179254"
      ]
     },
     "execution_count": 47,
     "metadata": {},
     "output_type": "execute_result"
    }
   ],
   "source": [
    "df[\"TMST_09\"].mean()"
   ]
  },
  {
   "cell_type": "code",
   "execution_count": 48,
   "metadata": {},
   "outputs": [
    {
     "data": {
      "text/plain": [
       "3.9115291766591267"
      ]
     },
     "execution_count": 48,
     "metadata": {},
     "output_type": "execute_result"
    }
   ],
   "source": [
    "df[\"TMST_10\"].mean()"
   ]
  },
  {
   "cell_type": "code",
   "execution_count": 49,
   "metadata": {},
   "outputs": [
    {
     "data": {
      "text/plain": [
       "4.161030242473291"
      ]
     },
     "execution_count": 49,
     "metadata": {},
     "output_type": "execute_result"
    }
   ],
   "source": [
    "df[\"TMST_11\"].mean()"
   ]
  },
  {
   "cell_type": "code",
   "execution_count": 50,
   "metadata": {},
   "outputs": [
    {
     "data": {
      "text/plain": [
       "4.231729949374336"
      ]
     },
     "execution_count": 50,
     "metadata": {},
     "output_type": "execute_result"
    }
   ],
   "source": [
    "df[\"TMST_12\"].mean()"
   ]
  },
  {
   "cell_type": "code",
   "execution_count": 51,
   "metadata": {},
   "outputs": [
    {
     "data": {
      "text/plain": [
       "4.197278976819125"
      ]
     },
     "execution_count": 51,
     "metadata": {},
     "output_type": "execute_result"
    }
   ],
   "source": [
    "df[\"TMST_13\"].mean()"
   ]
  },
  {
   "cell_type": "code",
   "execution_count": 52,
   "metadata": {},
   "outputs": [
    {
     "data": {
      "text/plain": [
       "4.225182120970471"
      ]
     },
     "execution_count": 52,
     "metadata": {},
     "output_type": "execute_result"
    }
   ],
   "source": [
    "df[\"TMST_14\"].mean()"
   ]
  },
  {
   "cell_type": "code",
   "execution_count": 53,
   "metadata": {},
   "outputs": [
    {
     "data": {
      "text/plain": [
       "4.415985078604478"
      ]
     },
     "execution_count": 53,
     "metadata": {},
     "output_type": "execute_result"
    }
   ],
   "source": [
    "df[\"TMST_15\"].mean()"
   ]
  },
  {
   "cell_type": "code",
   "execution_count": 54,
   "metadata": {},
   "outputs": [
    {
     "data": {
      "text/plain": [
       "4.798711564082919"
      ]
     },
     "execution_count": 54,
     "metadata": {},
     "output_type": "execute_result"
    }
   ],
   "source": [
    "df[\"TMST_16\"].mean()"
   ]
  },
  {
   "cell_type": "code",
   "execution_count": 55,
   "metadata": {},
   "outputs": [
    {
     "data": {
      "text/plain": [
       "5.357661204370816"
      ]
     },
     "execution_count": 55,
     "metadata": {},
     "output_type": "execute_result"
    }
   ],
   "source": [
    "df[\"TMST_17\"].mean()"
   ]
  },
  {
   "cell_type": "code",
   "execution_count": 56,
   "metadata": {},
   "outputs": [
    {
     "data": {
      "text/plain": [
       "5.010806155076998"
      ]
     },
     "execution_count": 56,
     "metadata": {},
     "output_type": "execute_result"
    }
   ],
   "source": [
    "df[\"TMST_18\"].mean()"
   ]
  },
  {
   "cell_type": "code",
   "execution_count": 57,
   "metadata": {},
   "outputs": [
    {
     "data": {
      "text/plain": [
       "3.77188555822061"
      ]
     },
     "execution_count": 57,
     "metadata": {},
     "output_type": "execute_result"
    }
   ],
   "source": [
    "df[\"TMST_19\"].mean()"
   ]
  },
  {
   "cell_type": "code",
   "execution_count": 58,
   "metadata": {},
   "outputs": [
    {
     "data": {
      "text/plain": [
       "2.9864765520917476"
      ]
     },
     "execution_count": 58,
     "metadata": {},
     "output_type": "execute_result"
    }
   ],
   "source": [
    "df[\"TMST_20\"].mean()"
   ]
  },
  {
   "cell_type": "code",
   "execution_count": 59,
   "metadata": {},
   "outputs": [
    {
     "data": {
      "text/plain": [
       "2.623882360778098"
      ]
     },
     "execution_count": 59,
     "metadata": {},
     "output_type": "execute_result"
    }
   ],
   "source": [
    "df[\"TMST_21\"].mean()"
   ]
  },
  {
   "cell_type": "code",
   "execution_count": 60,
   "metadata": {},
   "outputs": [
    {
     "data": {
      "text/plain": [
       "1.947400612842968"
      ]
     },
     "execution_count": 60,
     "metadata": {},
     "output_type": "execute_result"
    }
   ],
   "source": [
    "df[\"TMST_22\"].mean()"
   ]
  },
  {
   "cell_type": "code",
   "execution_count": 61,
   "metadata": {},
   "outputs": [
    {
     "data": {
      "text/plain": [
       "1.262952438049257"
      ]
     },
     "execution_count": 61,
     "metadata": {},
     "output_type": "execute_result"
    }
   ],
   "source": [
    "df[\"TMST_23\"].mean()"
   ]
  },
  {
   "cell_type": "code",
   "execution_count": 62,
   "metadata": {},
   "outputs": [
    {
     "data": {
      "text/plain": [
       "127.18658520768987"
      ]
     },
     "execution_count": 62,
     "metadata": {},
     "output_type": "execute_result"
    }
   ],
   "source": [
    "df[\"lon\"].mean()"
   ]
  },
  {
   "cell_type": "code",
   "execution_count": 63,
   "metadata": {},
   "outputs": [
    {
     "data": {
      "text/plain": [
       "37.246541739516985"
      ]
     },
     "execution_count": 63,
     "metadata": {},
     "output_type": "execute_result"
    }
   ],
   "source": [
    "df[\"lat\"].mean()"
   ]
  }
 ],
 "metadata": {
  "kernelspec": {
   "display_name": "Python 3",
   "language": "python",
   "name": "python3"
  },
  "language_info": {
   "codemirror_mode": {
    "name": "ipython",
    "version": 3
   },
   "file_extension": ".py",
   "mimetype": "text/x-python",
   "name": "python",
   "nbconvert_exporter": "python",
   "pygments_lexer": "ipython3",
   "version": "3.6.9"
  }
 },
 "nbformat": 4,
 "nbformat_minor": 2
}
